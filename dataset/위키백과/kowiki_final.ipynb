{
 "cells": [
  {
   "cell_type": "code",
   "execution_count": 1,
   "id": "459c613f",
   "metadata": {},
   "outputs": [
    {
     "name": "stdout",
     "output_type": "stream",
     "text": [
      "/home/nlp/preprocess\r\n"
     ]
    }
   ],
   "source": [
    "!pwd"
   ]
  },
  {
   "cell_type": "code",
   "execution_count": 2,
   "id": "74353bfe",
   "metadata": {},
   "outputs": [],
   "source": [
    "import os\n",
    "import re\n",
    "from tqdm import tqdm"
   ]
  },
  {
   "cell_type": "code",
   "execution_count": 3,
   "id": "3196b773",
   "metadata": {},
   "outputs": [],
   "source": [
    "# DATA PATH\n",
    "\n",
    "data_path = \"/home/nlp/preprocess/datas/\"\n",
    "data_name = \"kowiki-20220501.txt\"\n",
    "\n",
    "data = data_path + data_name\n",
    "\n",
    "# OUTPUT PATH\n",
    "output_path = \"/home/nlp/preprocess/outputs/\"\n",
    "output = output_path + data_name[:-4] + \"-preprocessed.txt\""
   ]
  },
  {
   "cell_type": "code",
   "execution_count": 4,
   "id": "c522a1e4",
   "metadata": {},
   "outputs": [],
   "source": [
    "with open(data, \"r\") as f:\n",
    "    data = f.read()"
   ]
  },
  {
   "cell_type": "code",
   "execution_count": 5,
   "id": "085929c9",
   "metadata": {},
   "outputs": [
    {
     "name": "stdout",
     "output_type": "stream",
     "text": [
      "<doc id=\"5\" url=\"https://ko.wikipedia.org/wiki?curid=5\" title=\"지미 카터\">\n",
      "지미 카터\n",
      "\n",
      "제임스 얼 카터 주니어(, 1924년 10월 1일 ~ )는 민주당 출신 미국 39대 대통령 (1977년 ~ 1981년)이다.\n",
      "생애.\n",
      "어린 시절.\n",
      "지미 카터는 조지아주 섬터 카운티 플레인스 마을에서 태어났다.\n",
      "조지아 공과대학교를 졸업하였다. 그 후 해군에 들어가 전함·원자력·잠수함의 승무원으로 일하였다. 1953년 미국 해군 대위로 예편하였고 이후 땅콩·면화 등을 가꿔 많은 돈을 벌었다. 그의 별명이 \"땅콩 농부\" (Peanut Farmer)로 알려졌다.\n",
      "정계 입문.\n",
      "1962년 조지아주 상원 의원 선거에서 낙선하나 그 선거가 부정선거 였음을 입증하게 되어 당선되고, 1966년 조지아 주지사 선거에 낙선하지만, 1970년 조지아 주지사를 역임했다. 대통령이 되기 전 조지아주 상원의원을 두번 연임했으며, 1971년부터 1975년까지 조지아 지사로 근무했다. 조지아 주지사로 지내면서, 미국에 사는 흑인 등용법을 내세웠다.\n",
      "대통령 재임.\n",
      "1976년 미합중국 제39대 대통령 선거에 민주당 후보로 출마하여 도덕주의 정책으로 내세워서, 많은 지지를 받고 제럴드 포드 대통령을 누르고 당선되었다.\n",
      "카터 대통령은 에너지 개발을 촉구했으나 공화당의 반대로 무산되었다.\n",
      "외교 정책.\n",
      "카터는 이집트와 이스라엘을 조정하여 캠프 데이비드에서 안와르 사다트 대통령과 메나헴 베긴 수상과 함께 중동 평화를 위한 캠프데이비드 협정을 체결했다. 이것은 공화당과 미국의 유대인 단체의 반발을 일으켰다. 그러나 1979년, 양국 간의 평화조약이 백악관에서 이루어졌다.\n",
      "소련과 제2차 전략 무기 제한 협상(SALT II)에 조인했다.\n",
      "카터는 1970년대 후반 당시 대한민국 등 인권 후진국의 국민들의 인권을 지키기 위해 노력했으며, 취임 이후 계속해서 도덕정치를 내세웠다.\n",
      "임기 말, 소련의 아프가니스탄 침공 사건으로 인해 1980년 하계 올림픽에 반공국가들의 보이콧을 하였\n"
     ]
    }
   ],
   "source": [
    "print(data[:1000])"
   ]
  },
  {
   "cell_type": "code",
   "execution_count": 6,
   "id": "7efe68af",
   "metadata": {},
   "outputs": [
    {
     "name": "stdout",
     "output_type": "stream",
     "text": [
      "['<doc id=\"5\" url=\"https://ko.wikipedia.org/wiki?curid=5\" title=\"지미 카터\">', '지미 카터', '', '제임스 얼 카터 주니어(, 1924년 10월 1일 ~ )는 민주당 출신 미국 39대 대통령 (1977년 ~ 1981년)이다.', '생애.', '어린 시절.', '지미 카터는 조지아주 섬터 카운티 플레인스 마을에서 태어났다.', '조지아 공과대학교를 졸업하였다. 그 후 해군에 들어가 전함·원자력·잠수함의 승무원으로 일하였다. 1953년 미국 해군 대위로 예편하였고 이후 땅콩·면화 등을 가꿔 많은 돈을 벌었다. 그의 별명이 \"땅콩 농부\" (Peanut Farmer)로 알려졌다.', '정계 입문.', '1962년 조지아주 상원 의원 선거에서 낙선하나 그 선거가 부정선거 였음을 입증하게 되어 당선되고, 1966년 조지아 주지사 선거에 낙선하지만, 1970년 조지아 주지사를 역임했다. 대통령이 되기 전 조지아주 상원의원을 두번 연임했으며, 1971년부터 1975년까지 조지아 지사로 근무했다. 조지아 주지사로 지내면서, 미국에 사는 흑인 등용법을 내세웠다.']\n"
     ]
    }
   ],
   "source": [
    "lines = data.split(\"\\n\")\n",
    "print(lines[:10])"
   ]
  },
  {
   "cell_type": "code",
   "execution_count": 7,
   "id": "57421e16",
   "metadata": {},
   "outputs": [
    {
     "name": "stderr",
     "output_type": "stream",
     "text": [
      "100%|██████████| 10198884/10198884 [02:43<00:00, 62423.28it/s]\n"
     ]
    }
   ],
   "source": [
    "filtered_lines = []\n",
    "\n",
    "bracket_text = re.compile(' *\\([^)]*\\)')  # (), (내용), ...\n",
    "korean_text = re.compile('[가-힣]')\n",
    "number_text1 = re.compile('\\d+보다 크고 (자연수 )*\\d+보다 작은 자연수')\n",
    "number_text2 = re.compile('\\d{3}\\([가-힣]+, [A-Z]+, [A-Z0-9]+\\)')\n",
    "number_text3 = re.compile('(\\d+, ){5,}')\n",
    "school_name = re.compile('(\\S*학교* ){5,}')\n",
    "law_text = re.compile('\\[시행 \\d+\\.\\d+\\.\\d+\\.\\] \\[.* \\d+\\.\\d+\\.\\d+\\..*\\]')\n",
    "election_text1 = re.compile('다음은 제\\d회 .*선거')\n",
    "election_text2 = re.compile('이 문서는 제\\d회 .*선거')\n",
    "file_text = re.compile('\\[\\[([^\\[\\]]*\\|){2,}[^\\[\\]]*\\]\\]')  # [[파일:ArafatEconomicForum.jpg|섬네일|왼쪽|2001년 경제 포럼]]\n",
    "line_text = re.compile('━{2,}┳━{2,}')\n",
    "event_text = re.compile('\\d+년 기준.*에서 열리는.*는 총')\n",
    "none_text = re.compile('[]')\n",
    "usnavy_text = re.compile('\\d+\\. .*\\[[A-Z]+-[0-9]+\\] [\\d진]')\n",
    "broadcast_text = re.compile('방송일시* : \\d+월 \\d+일\\([가-힣]\\).*\\d+시')\n",
    "year_text = re.compile('\\d{4}\\. \\d{1,2} ')\n",
    "special_text = re.compile('[-!/\\\\#＃&＆*＊@＠§※☆★○●◎◇◆□■△▲▽▼→←↑↓↔〓◁◀▷▶♤♠♡♥♧♣⊙◈▣☞•]')\n",
    "space_text = re.compile(' {2,}')\n",
    "date_text1 = re.compile(' *\\d{8}')\n",
    "date_text2 = re.compile(' *\\d{4} \\d{2} ')\n",
    "date_text3 = re.compile(' *\\d{4}\\. \\d{1,2}\\. \\d{1,2}')\n",
    "date_text4 = re.compile(' *\\d{4}-\\d{1,2}-\\d{1,2}')\n",
    "date_text5 = re.compile(' *\\d* \\[\\d{4}\\. *\\d{1,2}\\. *\\d{1,2}')\n",
    "gregory_text = re.compile('\\d+월 \\d+일은 그레고리력으로.*해당한다')\n",
    "\n",
    "link_text = re.compile('\\[\\[[가-힣a-zA-Z0-9 ]+\\|([가-힣a-zA-Z0-9 ]+)\\]\\]')\n",
    "\n",
    "for line in tqdm(lines):\n",
    "    # remove contents with brackets\n",
    "    line = line.strip()\n",
    "    line = bracket_text.sub(\"\", line)\n",
    "    \n",
    "    # write <|endoftext|> when the line is document info&link or sentence is too short.\n",
    "    if line.startswith(\"<doc id\") or line.startswith(\"</doc>\") or line.startswith(\"&lt;\"):\n",
    "        line = \"<|endoftext|>\"\n",
    "    elif len(line) <= 30:\n",
    "        line = \"<|endoftext|>\"\n",
    "    elif line.startswith(\"이 문서는\"):\n",
    "        line = \"<|endoftext|>\"\n",
    "    elif line.endswith(\"목록을 나열한다.\"):\n",
    "        line = \"<|endoftext|>\"\n",
    "    elif line.startswith(\"&lt;\") or line.startswith(\" &lt;\"):\n",
    "        line = \"<|endoftext|>\"\n",
    "    elif special_text.match(line) != None:\n",
    "        line = \"<|endoftext|>\"\n",
    "    elif korean_text.search(line) == None:\n",
    "        line = \"<|endoftext|>\"\n",
    "    elif number_text1.search(line) != None:\n",
    "        line = \"<|endoftext|>\"\n",
    "    elif number_text2.search(line) != None:\n",
    "        line = \"<|endoftext|>\"\n",
    "    elif number_text3.search(line) != None:\n",
    "        line = \"<|endoftext|>\"\n",
    "    elif school_name.search(line) != None:\n",
    "        line = \"<|endoftext|>\"\n",
    "    elif law_text.search(line) != None:\n",
    "        line = \"<|endoftext|>\"\n",
    "    elif election_text1.search(line) != None or election_text2.search(line) != None:\n",
    "        line = \"<|endoftext|>\"\n",
    "    elif file_text.search(line) != None:\n",
    "        line = \"<|endoftext|>\"\n",
    "    elif line_text.search(line) != None:\n",
    "        line = \"<|endoftext|>\"\n",
    "    elif event_text.search(line) != None:\n",
    "        line = \"<|endoftext|>\"\n",
    "    elif none_text.search(line) != None:\n",
    "        line = \"<|endoftext|>\"\n",
    "    elif usnavy_text.search(line) != None:\n",
    "        line = \"<|endoftext|>\"\n",
    "    elif broadcast_text.search(line) != None:\n",
    "        line = \"<|endoftext|>\"\n",
    "    elif year_text.match(line) != None:\n",
    "        line = \"<|endoftext|>\"\n",
    "    elif date_text1.match(line) != None:\n",
    "        line = \"<|endoftext|>\"\n",
    "    elif date_text2.match(line) != None:\n",
    "        line = \"<|endoftext|>\"\n",
    "    elif date_text3.match(line) != None:\n",
    "        line = \"<|endoftext|>\"\n",
    "    elif date_text4.match(line) != None:\n",
    "        line = \"<|endoftext|>\"\n",
    "    elif date_text5.match(line) != None:\n",
    "        line = \"<|endoftext|>\"\n",
    "    elif gregory_text.match(line) != None:\n",
    "        line = \"<|endoftext|>\"\n",
    "    \n",
    "    # to prevent write <|endoftext|> twice\n",
    "    if line == \"<|endoftext|>\":\n",
    "        if len(filtered_lines) == 0:\n",
    "            continue\n",
    "        if filtered_lines[-1] == \"<|endoftext|>\":\n",
    "            continue\n",
    "        filtered_lines.append(line)\n",
    "        continue\n",
    "    \n",
    "    \n",
    "    link_check = link_text.search(line)\n",
    "    if link_check != None:\n",
    "        line = line.replace(link_check.group(0), link_check.group(1))\n",
    "    \n",
    "    # change the special characters to normal charcters\n",
    "    # ㅁ\n",
    "    line = line.replace(\"＃\", \"#\")\n",
    "    line = line.replace(\"＆\", \"&\")\n",
    "    line = line.replace(\"＊\", \"*\")\n",
    "    line = line.replace(\"＠\", \"@\")\n",
    "    # ㄴ\n",
    "    line = line.replace(\"＂\", \"\\\"\")\n",
    "    line = line.replace(\"（\", \"(\")\n",
    "    line = line.replace(\"）\", \")\")\n",
    "    line = line.replace(\"［\", \"[\")\n",
    "    line = line.replace(\"］\", \"]\")\n",
    "    line = line.replace(\"｛\", \"{\")\n",
    "    line = line.replace(\"｝\", \"}\")\n",
    "    line = line.replace(\"‘\", \"'\")\n",
    "    line = line.replace(\"’\", \"'\")\n",
    "    line = line.replace(\"“\", \"\\\"\")\n",
    "    line = line.replace(\"”\", \"\\\"\")\n",
    "    line = line.replace(\"〔\", \"[\")\n",
    "    line = line.replace(\"〕\", \"]\")\n",
    "    line = line.replace(\"〈\", \"<\")\n",
    "    line = line.replace(\"〉\", \">\")\n",
    "    # ㄹ\n",
    "    line = line.replace(\"％\", \"%\")\n",
    "    # ㄱ\n",
    "    line = line.replace(\"　\", \" \")\n",
    "    line = line.replace(\"！\", \"!\")\n",
    "    line = line.replace(\"＇\", \"'\")\n",
    "    line = line.replace(\"，\", \",\")\n",
    "    line = line.replace(\"．\", \".\")\n",
    "    line = line.replace(\"／\", \"/\")\n",
    "    line = line.replace(\"：\", \":\")\n",
    "    line = line.replace(\"；\", \";\")\n",
    "    line = line.replace(\"？\", \"?\")\n",
    "    line = line.replace(\"、\", \",\")\n",
    "    line = line.replace(\"∼\", \"~\")\n",
    "    line = line.replace(\"´\", \"'\")\n",
    "    line = line.replace(\"～\", \"~\")\n",
    "    # ㄷ\n",
    "    line = line.replace(\"＋\", \"+\")\n",
    "    line = line.replace(\"－\", \"-\")\n",
    "    line = line.replace(\"＜\", \"<\")\n",
    "    line = line.replace(\"＝\", \"=\")\n",
    "    line = line.replace(\"＞\", \">\")\n",
    "    \n",
    "    # edit link text not parsed well\n",
    "    line = line.replace(\"[[\", \"\")\n",
    "    line = line.replace(\"]]\", \"\")\n",
    "    \n",
    "    # edit special characters\n",
    "    line = line.replace(\"&lt;\", \"<\")\n",
    "    line = line.replace(\"&gt;\", \">\")\n",
    "    line = line.replace(\"&amp;\", \"&\")\n",
    "    line = line.replace(\"&quot;\", \"\\\"\")\n",
    "\n",
    "    # prevent more than 2 spaces\n",
    "    line = space_text.sub(\" \", line)\n",
    "\n",
    "    filtered_lines.append(line)"
   ]
  },
  {
   "cell_type": "code",
   "execution_count": 8,
   "id": "2edc4a1d",
   "metadata": {},
   "outputs": [],
   "source": [
    "filtered_data = \"\\n\".join(filtered_lines)\n",
    "filtered_data = filtered_data.replace(\"\\n<|endoftext|>\", \"<|endoftext|>\")"
   ]
  },
  {
   "cell_type": "code",
   "execution_count": 9,
   "id": "56817fd0",
   "metadata": {},
   "outputs": [],
   "source": [
    "with open(output, \"w\") as f:\n",
    "    f.write(filtered_data)"
   ]
  }
 ],
 "metadata": {
  "kernelspec": {
   "display_name": "Python 3 (ipykernel)",
   "language": "python",
   "name": "python3"
  },
  "language_info": {
   "codemirror_mode": {
    "name": "ipython",
    "version": 3
   },
   "file_extension": ".py",
   "mimetype": "text/x-python",
   "name": "python",
   "nbconvert_exporter": "python",
   "pygments_lexer": "ipython3",
   "version": "3.8.13"
  }
 },
 "nbformat": 4,
 "nbformat_minor": 5
}
