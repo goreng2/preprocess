{
 "cells": [
  {
   "cell_type": "code",
   "execution_count": 1,
   "id": "994f8309",
   "metadata": {},
   "outputs": [
    {
     "name": "stdout",
     "output_type": "stream",
     "text": [
      "/home/nlp/preprocess\r\n"
     ]
    }
   ],
   "source": [
    "!pwd"
   ]
  },
  {
   "cell_type": "code",
   "execution_count": 2,
   "id": "7e5c0d39",
   "metadata": {},
   "outputs": [],
   "source": [
    "import os\n",
    "import re\n",
    "from tqdm import tqdm"
   ]
  },
  {
   "cell_type": "code",
   "execution_count": 3,
   "id": "e6d00e74",
   "metadata": {},
   "outputs": [],
   "source": [
    "# DATA PATH\n",
    "\n",
    "data_path = \"/home/nlp/preprocess/datas/\"\n",
    "data_name = \"namuwiki-210301-part1.txt\"\n",
    "\n",
    "data = data_path + data_name\n",
    "\n",
    "# OUTPUT PATH\n",
    "output_path = \"/home/nlp/preprocess/outputs/\"\n",
    "output = output_path + data_name[:-4] + \"-preprocessed.txt\""
   ]
  },
  {
   "cell_type": "code",
   "execution_count": 4,
   "id": "b7952a5a",
   "metadata": {},
   "outputs": [],
   "source": [
    "with open(data, \"r\") as f:\n",
    "    data = f.read()"
   ]
  },
  {
   "cell_type": "code",
   "execution_count": 5,
   "id": "99adb9d6",
   "metadata": {},
   "outputs": [
    {
     "name": "stdout",
     "output_type": "stream",
     "text": [
      "그 결과가 무엇일지\n",
      "잘들 봐둬 보여주겠어\n",
      "8. 빼앗긴 나의 시간(rep.) - 멜레아강\n",
      "[ 가사 / 접기 ]\n",
      "날 이용하신 신이여\n",
      "절대 이대로는 안돼\n",
      "한낱 인간의 약속도\n",
      "지켜져야 해\n",
      "그게 운명\n",
      "내 자리도 내 여자도 모두\n",
      "어떤 것도 빼앗기지 않아\n",
      "9. 불가능을 꿈꾸다 - 귀네비어\n",
      "[ 가사 / 접기 ]\n",
      "신이여 들리시나요\n",
      "운명에 아픈 내 눈물이\n",
      "나의 죄 이리 큰가요 두려워요\n",
      "내가 원치 않는 결혼\n",
      "나와는 상관없는 약속\n",
      "지금 날 위로하는 건 이 노래뿐\n",
      "이 노래뿐\n",
      "(아~)\n",
      "자유를 원해\n",
      "(아~)\n",
      "내 꿈 이뤄지길\n",
      "신이여 보이시나요\n",
      "절망에 빠진 내 슬픔이\n",
      "어린 날 순수했던 꿈 사라지네\n",
      "당신이 나에게 보낸\n",
      "나를 흔드는 이 설레임\n",
      "내가 기다린 한 사람, 이 사람뿐\n",
      "이 사람뿐\n",
      "(아~)\n",
      "자유를 원해\n",
      "(아~)\n",
      "내 꿈 이뤄지길\n",
      "(아~)\n",
      "아~\n",
      "(아~)\n",
      "내 꿈 이뤄지길\n",
      "10. 마법처럼 - 아더, 귀네비어 #\n",
      "[ 가사 / 접기 ]\n",
      "귀네비어\n",
      "난 보여 우릴 막는 저 어둠의 그늘\n",
      "떠도는 무성한 말 끝없이 날 가둬\n",
      "아더\n",
      "당신을 따라 시간 거슬러 바람 속을 헤매\n",
      "고통에 맞서 악마와 싸워 이제 당신 앞에\n",
      "아더, 귀네비어\n",
      "우리를 이끌어준 이 마법처럼\n",
      "그대 놓지 않으리 이 순간처럼\n",
      "내 마음 가득 채워 지금 이 순간\n",
      "자석처럼 끌린 우리 두 사람\n",
      "귀네비어\n",
      "별빛 속 우리 영혼 서롤 보고 있죠\n",
      "성배를 향한 그 길 꿈 같은 시간들\n",
      "아더\n",
      "맘을 흐리는 어둠과 맞서 견딘 수많은 밤\n",
      "언젠가 만날 당신을 위해 기도한 많은 날\n",
      "아더, 귀네비어\n",
      "우리를 이끌어준 이 마법처럼\n",
      "그대 놓지 않으리 이 순간처럼\n",
      "내 마음 가득 채워 지금 이 순간\n",
      "자석 끌린 우리 두 사람\n",
      "아더, 귀네비어\n",
      "이제 더는 슬픔 오지 않게\n",
      "나의 사랑 오직 그대만이\n",
      "시린 운명 그대 함께라면 견딜 수 있어\n",
      "아더\n",
      "우리를 이끌어준 이 마법처럼\n",
      "아더, 귀네비어\n",
      "그대 놓지 않으리 이 순간처럼\n",
      "내 마음 가득 채워 지금 이 순간\n",
      "자석처럼 끌린 우리 두 사람\n",
      "자석처럼 끌린 우리 두 사람\n",
      "11. 새로운 시작 - 멜레아강 #\n",
      "[ 가사 / 접기 ]\n",
      "내가 꿈꾸던 세상의 시작\n",
      "나의 힘으로 \n"
     ]
    }
   ],
   "source": [
    "print(data[:1000])"
   ]
  },
  {
   "cell_type": "code",
   "execution_count": 6,
   "id": "53158858",
   "metadata": {},
   "outputs": [
    {
     "name": "stdout",
     "output_type": "stream",
     "text": [
      "['그 결과가 무엇일지', '잘들 봐둬 보여주겠어', '8. 빼앗긴 나의 시간(rep.) - 멜레아강', '[ 가사 / 접기 ]', '날 이용하신 신이여', '절대 이대로는 안돼', '한낱 인간의 약속도', '지켜져야 해', '그게 운명', '내 자리도 내 여자도 모두']\n"
     ]
    }
   ],
   "source": [
    "lines = data.split(\"\\n\")\n",
    "print(lines[:10])"
   ]
  },
  {
   "cell_type": "code",
   "execution_count": 7,
   "id": "04422f81",
   "metadata": {},
   "outputs": [
    {
     "name": "stderr",
     "output_type": "stream",
     "text": [
      "100%|██████████| 8924667/8924667 [00:58<00:00, 152652.10it/s]\n"
     ]
    }
   ],
   "source": [
    "filtered_lines = []\n",
    "trash_lines = []\n",
    "trash_lines2 = []\n",
    "trash_lines3 = []\n",
    "trash_lines4 = []\n",
    "\n",
    "sbracket_text = re.compile(' *\\[[^\\]]*\\]')  # [], [주석], ...\n",
    "bracket_text = re.compile(' *\\([^)]*\\)')  # (), (내용), ...\n",
    "korean_text = re.compile('[가-힣]')\n",
    "special_text = re.compile('[-!/\\\\#＃&＆*＊@＠§※☆★○●◎◇◆□■△▲▽▼→←↑↓↔〓◁◀▷▶♤♠♡♥♧♣⊙◈▣☞•]')\n",
    "space_text = re.compile(' {2,}')\n",
    "end_text = re.compile('[\\.!?\\'\"#].{0,6}$')\n",
    "\n",
    "for line in tqdm(lines):\n",
    "    # remove contents with square brackets\n",
    "    line = line.strip()\n",
    "    line = sbracket_text.sub(\"\", line)\n",
    "    line = bracket_text.sub(\"\", line)\n",
    "    \n",
    "    # write <|endoftext|> when the sentence is too short.\n",
    "    if len(line) <= 80:\n",
    "        line = \"<|endoftext|>\"\n",
    "    elif len(line) <= 200 and special_text.match(line) != None:\n",
    "        line = \"<|endoftext|>\"\n",
    "    elif len(line) <= 200 and end_text.search(line) == None:\n",
    "        line = \"<|endoftext|>\"\n",
    "    elif korean_text.search(line) == None:\n",
    "        line = \"<|endoftext|>\"\n",
    "\n",
    "    \n",
    "    # to prevent write <|endoftext|> twice\n",
    "    if line == \"<|endoftext|>\":\n",
    "        if len(filtered_lines) == 0:\n",
    "            continue\n",
    "        if filtered_lines[-1] == \"<|endoftext|>\":\n",
    "            continue\n",
    "        filtered_lines.append(line)\n",
    "        continue\n",
    "    \n",
    "\n",
    "    # change the special characters to normal charcters\n",
    "    # ㅁ\n",
    "    line = line.replace(\"＃\", \"#\")\n",
    "    line = line.replace(\"＆\", \"&\")\n",
    "    line = line.replace(\"＊\", \"*\")\n",
    "    line = line.replace(\"＠\", \"@\")\n",
    "    # ㄴ\n",
    "    line = line.replace(\"＂\", \"\\\"\")\n",
    "    line = line.replace(\"（\", \"(\")\n",
    "    line = line.replace(\"）\", \")\")\n",
    "    line = line.replace(\"［\", \"[\")\n",
    "    line = line.replace(\"］\", \"]\")\n",
    "    line = line.replace(\"｛\", \"{\")\n",
    "    line = line.replace(\"｝\", \"}\")\n",
    "    line = line.replace(\"‘\", \"'\")\n",
    "    line = line.replace(\"’\", \"'\")\n",
    "    line = line.replace(\"“\", \"\\\"\")\n",
    "    line = line.replace(\"”\", \"\\\"\")\n",
    "    line = line.replace(\"〔\", \"[\")\n",
    "    line = line.replace(\"〕\", \"]\")\n",
    "    line = line.replace(\"〈\", \"<\")\n",
    "    line = line.replace(\"〉\", \">\")\n",
    "    # ㄹ\n",
    "    line = line.replace(\"％\", \"%\")\n",
    "    # ㄱ\n",
    "    line = line.replace(\"　\", \" \")\n",
    "    line = line.replace(\"！\", \"!\")\n",
    "    line = line.replace(\"＇\", \"'\")\n",
    "    line = line.replace(\"，\", \",\")\n",
    "    line = line.replace(\"．\", \".\")\n",
    "    line = line.replace(\"／\", \"/\")\n",
    "    line = line.replace(\"：\", \":\")\n",
    "    line = line.replace(\"；\", \";\")\n",
    "    line = line.replace(\"？\", \"?\")\n",
    "    line = line.replace(\"、\", \",\")\n",
    "    line = line.replace(\"∼\", \"~\")\n",
    "    line = line.replace(\"´\", \"'\")\n",
    "    line = line.replace(\"～\", \"~\")\n",
    "    # ㄷ\n",
    "    line = line.replace(\"＋\", \"+\")\n",
    "    line = line.replace(\"－\", \"-\")\n",
    "    line = line.replace(\"＜\", \"<\")\n",
    "    line = line.replace(\"＝\", \"=\")\n",
    "    line = line.replace(\"＞\", \">\")\n",
    "    \n",
    "    # edit link text not parsed well\n",
    "    line = line.replace(\"[[\", \"\")\n",
    "    line = line.replace(\"]]\", \"\")\n",
    "    \n",
    "    # edit special characters\n",
    "    line = line.replace(\"&lt;\", \"<\")\n",
    "    line = line.replace(\"&gt;\", \">\")\n",
    "    line = line.replace(\"&amp;\", \"&\")\n",
    "    line = line.replace(\"&quot;\", \"\\\"\")\n",
    "\n",
    "    # prevent more than 2 spaces\n",
    "    line = space_text.sub(\" \", line)\n",
    "\n",
    "    filtered_lines.append(line)"
   ]
  },
  {
   "cell_type": "code",
   "execution_count": 8,
   "id": "ac0eb061",
   "metadata": {},
   "outputs": [],
   "source": [
    "filtered_data = \"\\n\".join(filtered_lines)\n",
    "filtered_data = filtered_data.replace(\"\\n<|endoftext|>\", \"<|endoftext|>\")"
   ]
  },
  {
   "cell_type": "code",
   "execution_count": 9,
   "id": "c254e3fa",
   "metadata": {},
   "outputs": [],
   "source": [
    "with open(output, \"w\") as f:\n",
    "    f.write(filtered_data)"
   ]
  }
 ],
 "metadata": {
  "kernelspec": {
   "display_name": "Python 3 (ipykernel)",
   "language": "python",
   "name": "python3"
  },
  "language_info": {
   "codemirror_mode": {
    "name": "ipython",
    "version": 3
   },
   "file_extension": ".py",
   "mimetype": "text/x-python",
   "name": "python",
   "nbconvert_exporter": "python",
   "pygments_lexer": "ipython3",
   "version": "3.8.13"
  }
 },
 "nbformat": 4,
 "nbformat_minor": 5
}
